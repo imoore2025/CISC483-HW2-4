{
 "cells": [
  {
   "cell_type": "code",
   "execution_count": 5,
   "metadata": {},
   "outputs": [],
   "source": [
    "import io\n",
    "from contextlib import redirect_stdout\n",
    "import subprocess"
   ]
  },
  {
   "cell_type": "code",
   "execution_count": 2,
   "metadata": {},
   "outputs": [],
   "source": [
    "test_cases = [\n",
    "    (\"DAI93865FRO40251\", \"1.0 , 1\"),\n",
    "    (\"ELE12951FRO40251\", \"0.9905660377358491 , 4\"),\n",
    "    (\"FRO92469FRO40251\", \"0.983510011778563 , 6\"),\n",
    "    (\"GRO81647GRO73461\", \"0.6775510204081633 , 14\"),\n",
    "    (\"FRO73056GRO44993\", \"0.6016483516483516 , 19\"),\n",
    "    (\"DAI23334ELE92920DAI62779\", \"1.0 , 1\"),\n",
    "    (\"ELE17451FRO92469FRO40251\", \"0.9818181818181818 , 22\"),\n",
    "    (\"DAI55148FRO92469FRO40251\", \"0.9722222222222222 , 26\"),\n",
    "    (\"ELE92920SNA18336DAI62779\", \"0.9494505494505494 , 29\"),\n",
    "    (\"ELE17451SNA18336DAI62779\", \"0.9138576779026217 , 32\"),\n",
    "]"
   ]
  },
  {
   "cell_type": "code",
   "execution_count": 6,
   "metadata": {},
   "outputs": [
    {
     "name": "stdout",
     "output_type": "stream",
     "text": [
      "Input:            DAI93865FRO40251\n",
      "Expected Output:  1.0 , 1\n",
      "Actual Output:    \n",
      "Test FAILED\n",
      "--------------------------------------------------\n",
      "Input:            ELE12951FRO40251\n",
      "Expected Output:  0.9905660377358491 , 4\n",
      "Actual Output:    \n",
      "Test FAILED\n",
      "--------------------------------------------------\n",
      "Input:            FRO92469FRO40251\n",
      "Expected Output:  0.983510011778563 , 6\n",
      "Actual Output:    \n",
      "Test FAILED\n",
      "--------------------------------------------------\n",
      "Input:            GRO81647GRO73461\n",
      "Expected Output:  0.6775510204081633 , 14\n",
      "Actual Output:    \n",
      "Test FAILED\n",
      "--------------------------------------------------\n",
      "Input:            FRO73056GRO44993\n",
      "Expected Output:  0.6016483516483516 , 19\n",
      "Actual Output:    \n",
      "Test FAILED\n",
      "--------------------------------------------------\n",
      "Input:            DAI23334ELE92920DAI62779\n",
      "Expected Output:  1.0 , 1\n",
      "Actual Output:    \n",
      "Test FAILED\n",
      "--------------------------------------------------\n",
      "Input:            ELE17451FRO92469FRO40251\n",
      "Expected Output:  0.9818181818181818 , 22\n",
      "Actual Output:    \n",
      "Test FAILED\n",
      "--------------------------------------------------\n",
      "Input:            DAI55148FRO92469FRO40251\n",
      "Expected Output:  0.9722222222222222 , 26\n",
      "Actual Output:    \n",
      "Test FAILED\n",
      "--------------------------------------------------\n",
      "Input:            ELE92920SNA18336DAI62779\n",
      "Expected Output:  0.9494505494505494 , 29\n",
      "Actual Output:    \n",
      "Test FAILED\n",
      "--------------------------------------------------\n",
      "Input:            ELE17451SNA18336DAI62779\n",
      "Expected Output:  0.9138576779026217 , 32\n",
      "Actual Output:    \n",
      "Test FAILED\n",
      "--------------------------------------------------\n"
     ]
    }
   ],
   "source": [
    "def run_test(input_rule, expected_output):\n",
    "    # Run the apriori.py script as a subprocess.\n",
    "    proc = subprocess.Popen(\n",
    "        [\"python\", \"apriori.py\", input_rule],\n",
    "        stdout=subprocess.PIPE,\n",
    "        stderr=subprocess.PIPE\n",
    "    )\n",
    "    out, err = proc.communicate()\n",
    "    \n",
    "    # Decode the output and split into lines.\n",
    "    output_lines = out.decode(\"utf-8\").strip().splitlines()\n",
    "    \n",
    "    # Debug lines (e.g., \"DEBUG: Loaded ...\") may appear, so we take the last line as our result.\n",
    "    actual_output = output_lines[-1] if output_lines else \"\"\n",
    "    \n",
    "    print(f\"Input:            {input_rule}\")\n",
    "    print(f\"Expected Output:  {expected_output}\")\n",
    "    print(f\"Actual Output:    {actual_output}\")\n",
    "    \n",
    "    if actual_output == expected_output:\n",
    "        print(\"Test PASSED\")\n",
    "    else:\n",
    "        print(\"Test FAILED\")\n",
    "    print(\"-\" * 50)\n",
    "\n",
    "if __name__ == '__main__':\n",
    "    for input_rule, expected in test_cases:\n",
    "        run_test(input_rule, expected)"
   ]
  }
 ],
 "metadata": {
  "kernelspec": {
   "display_name": "base",
   "language": "python",
   "name": "python3"
  },
  "language_info": {
   "codemirror_mode": {
    "name": "ipython",
    "version": 3
   },
   "file_extension": ".py",
   "mimetype": "text/x-python",
   "name": "python",
   "nbconvert_exporter": "python",
   "pygments_lexer": "ipython3",
   "version": "3.11.5"
  }
 },
 "nbformat": 4,
 "nbformat_minor": 2
}
