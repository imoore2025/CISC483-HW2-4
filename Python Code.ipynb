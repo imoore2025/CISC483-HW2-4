{
 "cells": [
  {
   "cell_type": "code",
   "execution_count": 1,
   "metadata": {},
   "outputs": [],
   "source": [
    "import sys\n",
    "from itertools import combinations"
   ]
  },
  {
   "cell_type": "code",
   "execution_count": 2,
   "metadata": {},
   "outputs": [],
   "source": [
    "def load_transactions(filename=\"browsing.txt\"):\n",
    "    \"\"\"Read transactions from the file; each line is a session (items separated by spaces).\"\"\"\n",
    "    transactions = []\n",
    "    with open(filename, 'r') as f:\n",
    "        for line in f:\n",
    "            items = line.strip().split()\n",
    "            if items:\n",
    "                # Remove duplicates per session by converting to a set.\n",
    "                transactions.append(set(items))\n",
    "    print(f\"DEBUG: Loaded {len(transactions)} transactions from {filename}\")\n",
    "    return transactions\n"
   ]
  }
 ],
 "metadata": {
  "kernelspec": {
   "display_name": "base",
   "language": "python",
   "name": "python3"
  },
  "language_info": {
   "codemirror_mode": {
    "name": "ipython",
    "version": 3
   },
   "file_extension": ".py",
   "mimetype": "text/x-python",
   "name": "python",
   "nbconvert_exporter": "python",
   "pygments_lexer": "ipython3",
   "version": "3.11.5"
  }
 },
 "nbformat": 4,
 "nbformat_minor": 2
}
