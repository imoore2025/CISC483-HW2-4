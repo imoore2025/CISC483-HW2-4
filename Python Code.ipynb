{
 "cells": [
  {
   "cell_type": "code",
   "execution_count": 11,
   "metadata": {},
   "outputs": [],
   "source": [
    "import sys\n",
    "from itertools import combinations"
   ]
  },
  {
   "cell_type": "code",
   "execution_count": 12,
   "metadata": {},
   "outputs": [],
   "source": [
    "def load_transactions(filename=\"browsing.txt\"):\n",
    "    \"\"\"Read transactions from the file; each line is a session (items separated by spaces).\"\"\"\n",
    "    transactions = []\n",
    "    with open(filename, 'r') as f:\n",
    "        for line in f:\n",
    "            items = line.strip().split()\n",
    "            if items:\n",
    "                # Remove duplicates per session by converting to a set.\n",
    "                transactions.append(set(items))\n",
    "    print(f\"DEBUG: Loaded {len(transactions)} transactions from {filename}\")\n",
    "    return transactions\n"
   ]
  },
  {
   "cell_type": "code",
   "execution_count": 13,
   "metadata": {},
   "outputs": [],
   "source": [
    "def count_frequent_items(transactions, min_support):\n",
    "    \"\"\"Count items and return a dict {item: count} for items with count >= min_support.\"\"\"\n",
    "    item_counts = {}\n",
    "    for t in transactions:\n",
    "        for item in t:\n",
    "            item_counts[item] = item_counts.get(item, 0) + 1\n",
    "    L1 = {item: count for item, count in item_counts.items() if count >= min_support}\n",
    "    return L1"
   ]
  },
  {
   "cell_type": "code",
   "execution_count": 14,
   "metadata": {},
   "outputs": [],
   "source": [
    "def count_frequent_pairs(transactions, L1, min_support):\n",
    "    \"\"\"Generate candidate pairs from L1 and count their supports.\"\"\"\n",
    "    L1_items = set(L1.keys())\n",
    "    pair_counts = {}\n",
    "    for t in transactions:\n",
    "        # Only consider items that are frequent\n",
    "        t_items = sorted(t.intersection(L1_items))\n",
    "        for pair in combinations(t_items, 2):\n",
    "            pair_counts[pair] = pair_counts.get(pair, 0) + 1\n",
    "    L2 = {pair: count for pair, count in pair_counts.items() if count >= min_support}\n",
    "    return L2"
   ]
  },
  {
   "cell_type": "code",
   "execution_count": 15,
   "metadata": {},
   "outputs": [],
   "source": [
    "def count_frequent_triples(transactions, L1, L2, min_support):\n",
    "    \"\"\"Generate candidate triples (only if all 2‑item subsets are frequent) and count supports.\"\"\"\n",
    "    L1_items = set(L1.keys())\n",
    "    triple_counts = {}\n",
    "    for t in transactions:\n",
    "        t_items = sorted(t.intersection(L1_items))\n",
    "        for triple in combinations(t_items, 3):\n",
    "            # Prune candidate triple: all pairs must be frequent\n",
    "            if ((triple[0], triple[1]) in L2 and\n",
    "                (triple[0], triple[2]) in L2 and\n",
    "                (triple[1], triple[2]) in L2):\n",
    "                triple_counts[triple] = triple_counts.get(triple, 0) + 1\n",
    "    L3 = {triple: count for triple, count in triple_counts.items() if count >= min_support}\n",
    "    return L3"
   ]
  },
  {
   "cell_type": "code",
   "execution_count": 16,
   "metadata": {},
   "outputs": [],
   "source": [
    "def generate_pair_rules(L1, L2):\n",
    "    \"\"\"\n",
    "    For each frequent pair (X, Y) with support s,\n",
    "    generate rules X⇒Y (confidence = s/support(X)) and Y⇒X (confidence = s/support(Y)).\n",
    "    \"\"\"\n",
    "    pair_rules = {}\n",
    "    for (i, j), support in L2.items():\n",
    "        pair_rules[(i, j)] = support / L1[i]  # Rule: i ⇒ j\n",
    "        pair_rules[(j, i)] = support / L1[j]  # Rule: j ⇒ i\n",
    "    return pair_rules\n"
   ]
  },
  {
   "cell_type": "code",
   "execution_count": 17,
   "metadata": {},
   "outputs": [],
   "source": [
    "def generate_triple_rules(L2, L3):\n",
    "    \"\"\"\n",
    "    For each frequent triple (a, b, c) with support s,\n",
    "    generate:\n",
    "      - (a,b)⇒c (confidence = s/support({a,b}))\n",
    "      - (a,c)⇒b (confidence = s/support({a,c}))\n",
    "      - (b,c)⇒a (confidence = s/support({b,c}))\n",
    "    \"\"\"\n",
    "    triple_rules = {}\n",
    "    for (a, b, c), support in L3.items():\n",
    "        if (a, b) in L2:\n",
    "            triple_rules[((a, b), c)] = support / L2[(a, b)]\n",
    "        if (a, c) in L2:\n",
    "            triple_rules[((a, c), b)] = support / L2[(a, c)]\n",
    "        if (b, c) in L2:\n",
    "            triple_rules[((b, c), a)] = support / L2[(b, c)]\n",
    "    return triple_rules\n"
   ]
  },
  {
   "cell_type": "code",
   "execution_count": 18,
   "metadata": {},
   "outputs": [],
   "source": [
    "def rank_rules(rules):\n",
    "    \"\"\"\n",
    "    Sort rules (dictionary where key is (lhs, rhs) and value is confidence)\n",
    "    in descending order of confidence.\n",
    "    In case of ties, sort by lexicographically increasing order on the left-hand side\n",
    "    (and then the right-hand side).\n",
    "    \n",
    "    Returns a dict mapping each rule to a tuple (confidence, ranking).\n",
    "    \"\"\"\n",
    "    def sort_key(item):\n",
    "        key, conf = item\n",
    "        lhs, rhs = key\n",
    "        # For pair rules, ensure lhs is a tuple for proper lex order.\n",
    "        lhs_key = (lhs,) if isinstance(lhs, str) else lhs\n",
    "        return (-conf, lhs_key, rhs)\n",
    "    \n",
    "    sorted_rules = sorted(rules.items(), key=sort_key)\n",
    "    ranking = {}\n",
    "    for rank, (rule, conf) in enumerate(sorted_rules, start=1):\n",
    "        ranking[rule] = (conf, rank)\n",
    "    return ranking"
   ]
  },
  {
   "cell_type": "code",
   "execution_count": 19,
   "metadata": {},
   "outputs": [
    {
     "name": "stdout",
     "output_type": "stream",
     "text": [
      "DEBUG: Loaded 31101 transactions from browsing.txt\n",
      "NA\n"
     ]
    }
   ],
   "source": [
    "def main(data_file, input_rule):\n",
    "    min_support = 100\n",
    "    transactions = load_transactions(data_file)\n",
    "    \n",
    "    # Pass 1: Frequent items\n",
    "    L1 = count_frequent_items(transactions, min_support)\n",
    "    # Pass 2: Frequent pairs (2-itemsets)\n",
    "    L2 = count_frequent_pairs(transactions, L1, min_support)\n",
    "    # Pass 3: Frequent triples (3-itemsets)\n",
    "    L3 = count_frequent_triples(transactions, L1, L2, min_support)\n",
    "    \n",
    "    # Generate association rules.\n",
    "    pair_rules = generate_pair_rules(L1, L2)\n",
    "    triple_rules = generate_triple_rules(L2, L3)\n",
    "    \n",
    "    # Rank rules separately.\n",
    "    pair_ranking = rank_rules(pair_rules)\n",
    "    triple_ranking = rank_rules(triple_rules)\n",
    "    \n",
    "    # Determine if the input rule is for a pair or a triple based on its length.\n",
    "    if len(input_rule) == 16:\n",
    "        # Pair rule: first 8 characters = LHS, next 8 = RHS.\n",
    "        lhs = input_rule[:8]\n",
    "        rhs = input_rule[8:16]\n",
    "        key = (lhs, rhs)\n",
    "        if key in pair_ranking:\n",
    "            conf, rank = pair_ranking[key]\n",
    "            print(f\"{conf} , {rank}\")\n",
    "        else:\n",
    "            print(\"NA\")\n",
    "    elif len(input_rule) == 24:\n",
    "        # Triple rule: first 16 characters = LHS (two 8-char items), last 8 = RHS.\n",
    "        item1 = input_rule[:8]\n",
    "        item2 = input_rule[8:16]\n",
    "        rhs = input_rule[16:24]\n",
    "        # Our triple rules use a sorted pair for the left-hand side.\n",
    "        lhs = tuple(sorted([item1, item2]))\n",
    "        key = (lhs, rhs)\n",
    "        if key in triple_ranking:\n",
    "            conf, rank = triple_ranking[key]\n",
    "            print(f\"{conf} , {rank}\")\n",
    "        else:\n",
    "            print(\"NA\")\n",
    "    else:\n",
    "        print(\"NA\")\n",
    "\n",
    "if __name__ == '__main__':\n",
    "    # Since the data file is always browsing.txt, we set it here.\n",
    "    data_file = \"browsing.txt\"\n",
    "    if len(sys.argv) != 2:\n",
    "        print(\"Usage: python apriori.py <rule>\")\n",
    "        sys.exit(1)\n",
    "    input_rule = sys.argv[1]\n",
    "    main(data_file, input_rule)"
   ]
  }
 ],
 "metadata": {
  "kernelspec": {
   "display_name": "base",
   "language": "python",
   "name": "python3"
  },
  "language_info": {
   "codemirror_mode": {
    "name": "ipython",
    "version": 3
   },
   "file_extension": ".py",
   "mimetype": "text/x-python",
   "name": "python",
   "nbconvert_exporter": "python",
   "pygments_lexer": "ipython3",
   "version": "3.11.5"
  }
 },
 "nbformat": 4,
 "nbformat_minor": 2
}
