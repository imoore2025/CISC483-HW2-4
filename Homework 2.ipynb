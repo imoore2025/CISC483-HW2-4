{
 "cells": [
  {
   "cell_type": "code",
   "execution_count": 1,
   "metadata": {},
   "outputs": [],
   "source": [
    "### If you want to use Spark then you can use the imports here. Not required for non-spark implementation\n",
    "\n",
    "# !pip install pyspark\n",
    "# !pip install -U -q PyDrive2\n",
    "# !apt install openjdk-8-jdk-headless -qq\n",
    "# os.environ[\"JAVA_HOME\"] = \"/usr/lib/jvm/java-8-openjdk-amd64\""
   ]
  },
  {
   "cell_type": "code",
   "execution_count": 4,
   "metadata": {},
   "outputs": [],
   "source": [
    "import os\n",
    "import itertools\n",
    "from collections import defaultdict"
   ]
  },
  {
   "cell_type": "code",
   "execution_count": 5,
   "metadata": {},
   "outputs": [],
   "source": [
    "class solution:\n",
    "    def __init__(self, min_support=100):\n",
    "        \"\"\"\n",
    "        Initializes class variables.\n",
    "        \"\"\"\n",
    "        self.min_support = min_support\n",
    "        self.transactions = []\n",
    "        self.frequent_items = {}\n",
    "        self.frequent_pairs = {}\n",
    "        self.frequent_triples = {}\n",
    "        self.pair_confidence_list = []\n",
    "        self.triple_confidence_list = []"
   ]
  },
  {
   "cell_type": "code",
   "execution_count": 9,
   "metadata": {},
   "outputs": [],
   "source": [
    "def load_data(self, file_path):\n",
    "    \"\"\"\n",
    "    Load transaction data from the given file path and storing them in self.transactions\n",
    "    \"\"\"\n",
    "    with open(file_path, \"r\") as f:\n",
    "        for line in f:\n",
    "            items = line.strip().split()\n",
    "            if items:\n",
    "                # Use a set to remove duplicate items in a transaction.\n",
    "                self.transactions.append(set(items))\n",
    "\n",
    "    return self"
   ]
  },
  {
   "cell_type": "code",
   "execution_count": 7,
   "metadata": {},
   "outputs": [],
   "source": [
    "def count_items(self):\n",
    "        \"\"\"\n",
    "        Count individual item occurrences and stores the frequent items in self.frequent_items.\n",
    "        \"\"\"\n",
    "        item_counts = defaultdict(int)\n",
    "        for item in self.transactions:\n",
    "          for item in transaction:\n",
    "            item_counts[item] += 1\n",
    "        self.frequent_items = {item: count for item, count in item_counts.items() if count >= self.min_support}\n",
    "\n",
    "        return self"
   ]
  },
  {
   "cell_type": "code",
   "execution_count": null,
   "metadata": {},
   "outputs": [],
   "source": [
    "def count_items(self):\n",
    "        \"\"\"\n",
    "        Count individual item occurrences and stores the frequent items in self.frequent_items.\n",
    "        \"\"\"\n",
    "        item_counts = defaultdict(int)\n",
    "        for item in self.transactions:\n",
    "          for item in transaction:\n",
    "            item_counts[item] += 1\n",
    "        self.frequent_items = {item: count for item, count in item_counts.items() if count >= self.min_support}\n",
    "\n",
    "        return self"
   ]
  },
  {
   "cell_type": "code",
   "execution_count": null,
   "metadata": {},
   "outputs": [],
   "source": [
    "def generate_frequent_pairs(self):\n",
    "        \"\"\"\n",
    "        Generate frequent pairs from the transactions and stores the frequent pairs in self.frequent_pairs.\n",
    "        \"\"\"\n",
    "\n",
    "        return self"
   ]
  },
  {
   "cell_type": "code",
   "execution_count": null,
   "metadata": {},
   "outputs": [],
   "source": [
    "def generate_frequent_triples(self):\n",
    "    \"\"\"\n",
    "    Generate frequent triples from the transactions and stores the frequent triples in self.frequent_triples.\n",
    "    \"\"\"\n",
    "\n",
    "    return self"
   ]
  },
  {
   "cell_type": "code",
   "execution_count": null,
   "metadata": {},
   "outputs": [],
   "source": [
    "def compute_pair_confidence(self):\n",
    "    \"\"\"\n",
    "    Compute confidence for each frequent pair and store in self.pair_confidence_list.\n",
    "    \"\"\"\n",
    "\n",
    "    return self"
   ]
  },
  {
   "cell_type": "code",
   "execution_count": null,
   "metadata": {},
   "outputs": [],
   "source": [
    "def compute_triple_confidence(self):\n",
    "    \"\"\"\n",
    "    Compute confidence for each frequent triple and store in self.triple_confidence_list.\n",
    "    \"\"\"\n",
    "\n",
    "    return self"
   ]
  },
  {
   "cell_type": "code",
   "execution_count": null,
   "metadata": {},
   "outputs": [],
   "source": [
    "def eval(self, input_str) -> str:\n",
    "    \"\"\"\n",
    "    Returns the confidence and rank for a rule in the format specified in the pdf. You will have to write the return statement in additio to the code here.\n",
    "    \"\"\"\n",
    "\n",
    "    pass"
   ]
  },
  {
   "cell_type": "code",
   "execution_count": null,
   "metadata": {},
   "outputs": [],
   "source": [
    "def sanity_check(self):\n",
    "    \"\"\"\n",
    "    Performs sanity checks:\n",
    "    (1) Verify that the number of frequent items (L1) after the first pass is 647.\n",
    "    (2) Ensure that the top 5 pairs produced have confidence scores greater than 0.985.\n",
    "    \"\"\"\n",
    "    pass"
   ]
  },
  {
   "cell_type": "code",
   "execution_count": null,
   "metadata": {},
   "outputs": [],
   "source": [
    "\n",
    "if __name__ == \"__main__\":\n",
    "    apriori = solution(min_support=100)\n",
    "\n",
    "    # Load and process data\n",
    "    apriori.load_data(\"browsing.txt\") \\\n",
    "        .count_items() \\\n",
    "        .generate_frequent_pairs() \\\n",
    "        .generate_frequent_triples() \\\n",
    "        .compute_pair_confidence() \\\n",
    "        .compute_triple_confidence()\n",
    "\n",
    "    # Test a sample rule\n",
    "    test_rule = \"ELE12951FRO40251\"\n",
    "    print(apriori.eval(test_rule))"
   ]
  }
 ],
 "metadata": {
  "kernelspec": {
   "display_name": "base",
   "language": "python",
   "name": "python3"
  },
  "language_info": {
   "codemirror_mode": {
    "name": "ipython",
    "version": 3
   },
   "file_extension": ".py",
   "mimetype": "text/x-python",
   "name": "python",
   "nbconvert_exporter": "python",
   "pygments_lexer": "ipython3",
   "version": "3.11.5"
  }
 },
 "nbformat": 4,
 "nbformat_minor": 2
}
